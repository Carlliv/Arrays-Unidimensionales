{
  "nbformat": 4,
  "nbformat_minor": 0,
  "metadata": {
    "colab": {
      "provenance": [],
      "name": "Arrays-Unidimensionales.ipynb",
      "authorship_tag": "ABX9TyMDFFNUUIHGkVTAtgCPREE5"
    },
    "kernelspec": {
      "name": "python3",
      "display_name": "Python 3"
    },
    "language_info": {
      "name": "python"
    }
  },
  "cells": [
    {
      "cell_type": "code",
      "source": [
        "import numpy as np"
      ],
      "metadata": {
        "id": "WeXFPOGqolW5"
      },
      "execution_count": 20,
      "outputs": []
    },
    {
      "cell_type": "code",
      "source": [
        "a=np.array([3,4,5,6,7,8,9,10,11,12,13,14,15,16,17,18,19,20,21,22])\n",
        "a"
      ],
      "metadata": {
        "id": "BpSKfTzfordp",
        "outputId": "80b22d0f-a564-4bdf-8d5d-c06b399185df",
        "colab": {
          "base_uri": "https://localhost:8080/"
        }
      },
      "execution_count": 24,
      "outputs": [
        {
          "output_type": "execute_result",
          "data": {
            "text/plain": [
              "array([ 3,  4,  5,  6,  7,  8,  9, 10, 11, 12, 13, 14, 15, 16, 17, 18, 19,\n",
              "       20, 21, 22])"
            ]
          },
          "metadata": {},
          "execution_count": 24
        }
      ]
    },
    {
      "cell_type": "code",
      "source": [
        "lista=[0, 1, 2, 3, 4, 0, 1, 2, 3, 4]\n",
        "a=np.array(lista)\n",
        "a.sort( )\n",
        "a"
      ],
      "metadata": {
        "id": "PCiiXPDwrZlx",
        "outputId": "31b62308-ac6b-4d9e-fd2f-6dea80c1b999",
        "colab": {
          "base_uri": "https://localhost:8080/"
        }
      },
      "execution_count": 43,
      "outputs": [
        {
          "output_type": "execute_result",
          "data": {
            "text/plain": [
              "array([0, 0, 1, 1, 2, 2, 3, 3, 4, 4])"
            ]
          },
          "metadata": {},
          "execution_count": 43
        }
      ]
    }
  ]
}